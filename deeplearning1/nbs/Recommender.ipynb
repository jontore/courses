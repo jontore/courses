{
 "cells": [
  {
   "cell_type": "code",
   "execution_count": 1,
   "metadata": {
    "collapsed": false
   },
   "outputs": [
    {
     "name": "stderr",
     "output_type": "stream",
     "text": [
      "Using gpu device 0: Tesla K80 (CNMeM is disabled, cuDNN 5103)\n",
      "/home/ubuntu/anaconda2/lib/python2.7/site-packages/theano/sandbox/cuda/__init__.py:600: UserWarning: Your cuDNN version is more recent than the one Theano officially supports. If you see any problems, try updating Theano or downgrading cuDNN to version 5.\n",
      "  warnings.warn(warn)\n"
     ]
    }
   ],
   "source": [
    "from theano.sandbox import cuda"
   ]
  },
  {
   "cell_type": "code",
   "execution_count": 115,
   "metadata": {
    "collapsed": false
   },
   "outputs": [],
   "source": [
    "%matplotlib inline\n",
    "import utils; reload(utils)\n",
    "from utils import *\n",
    "from __future__ import division, print_function\n",
    "cuda.use('gpu0')"
   ]
  },
  {
   "cell_type": "markdown",
   "metadata": {},
   "source": [
    "## Read data"
   ]
  },
  {
   "cell_type": "code",
   "execution_count": 123,
   "metadata": {
    "collapsed": false
   },
   "outputs": [],
   "source": [
    "big_path = \"data/movielens/big/\"\n",
    "#path = big_path\n",
    "path = \"data/movielens/small/\"\n",
    "batch_size=64"
   ]
  },
  {
   "cell_type": "code",
   "execution_count": 124,
   "metadata": {
    "collapsed": true
   },
   "outputs": [],
   "source": [
    "ratings = pd.read_csv(path+'ratings.csv')\n",
    "movie_names = pd.read_csv(big_path+'movies.csv').set_index('movieId')['title'].to_dict()\n"
   ]
  },
  {
   "cell_type": "code",
   "execution_count": 125,
   "metadata": {
    "collapsed": false
   },
   "outputs": [
    {
     "data": {
      "text/plain": [
       "(671, 9066)"
      ]
     },
     "execution_count": 125,
     "metadata": {},
     "output_type": "execute_result"
    }
   ],
   "source": [
    "users = ratings.userId.unique()\n",
    "movies = ratings.movieId.unique()\n",
    "userid2idx = {o:i for i,o in enumerate(users)}\n",
    "movieid2idx = {o:i for i,o in enumerate(movies)}\n",
    "ratings.movieId = ratings.movieId.apply(lambda x: movieid2idx[x])\n",
    "ratings.userId = ratings.userId.apply(lambda x: userid2idx[x])\n",
    "\n",
    "n_users = ratings.userId.nunique()\n",
    "n_movies = ratings.movieId.nunique()\n",
    "movie_names = pd.read_csv(path+'movies.csv').set_index('movieId')['title'].to_dict()\n",
    "n_users, n_movies"
   ]
  },
  {
   "cell_type": "code",
   "execution_count": 13,
   "metadata": {
    "collapsed": false
   },
   "outputs": [
    {
     "data": {
      "text/html": [
       "<div>\n",
       "<table border=\"1\" class=\"dataframe\">\n",
       "  <thead>\n",
       "    <tr style=\"text-align: right;\">\n",
       "      <th></th>\n",
       "      <th>userId</th>\n",
       "      <th>movieId</th>\n",
       "      <th>rating</th>\n",
       "      <th>timestamp</th>\n",
       "    </tr>\n",
       "  </thead>\n",
       "  <tbody>\n",
       "    <tr>\n",
       "      <th>0</th>\n",
       "      <td>0</td>\n",
       "      <td>0</td>\n",
       "      <td>2.5</td>\n",
       "      <td>1260759144</td>\n",
       "    </tr>\n",
       "    <tr>\n",
       "      <th>1</th>\n",
       "      <td>0</td>\n",
       "      <td>1</td>\n",
       "      <td>3.0</td>\n",
       "      <td>1260759179</td>\n",
       "    </tr>\n",
       "    <tr>\n",
       "      <th>2</th>\n",
       "      <td>0</td>\n",
       "      <td>2</td>\n",
       "      <td>3.0</td>\n",
       "      <td>1260759182</td>\n",
       "    </tr>\n",
       "    <tr>\n",
       "      <th>3</th>\n",
       "      <td>0</td>\n",
       "      <td>3</td>\n",
       "      <td>2.0</td>\n",
       "      <td>1260759185</td>\n",
       "    </tr>\n",
       "    <tr>\n",
       "      <th>4</th>\n",
       "      <td>0</td>\n",
       "      <td>4</td>\n",
       "      <td>4.0</td>\n",
       "      <td>1260759205</td>\n",
       "    </tr>\n",
       "    <tr>\n",
       "      <th>5</th>\n",
       "      <td>0</td>\n",
       "      <td>5</td>\n",
       "      <td>2.0</td>\n",
       "      <td>1260759151</td>\n",
       "    </tr>\n",
       "    <tr>\n",
       "      <th>6</th>\n",
       "      <td>0</td>\n",
       "      <td>6</td>\n",
       "      <td>2.0</td>\n",
       "      <td>1260759187</td>\n",
       "    </tr>\n",
       "    <tr>\n",
       "      <th>7</th>\n",
       "      <td>0</td>\n",
       "      <td>7</td>\n",
       "      <td>2.0</td>\n",
       "      <td>1260759148</td>\n",
       "    </tr>\n",
       "    <tr>\n",
       "      <th>8</th>\n",
       "      <td>0</td>\n",
       "      <td>8</td>\n",
       "      <td>3.5</td>\n",
       "      <td>1260759125</td>\n",
       "    </tr>\n",
       "    <tr>\n",
       "      <th>9</th>\n",
       "      <td>0</td>\n",
       "      <td>9</td>\n",
       "      <td>2.0</td>\n",
       "      <td>1260759131</td>\n",
       "    </tr>\n",
       "    <tr>\n",
       "      <th>10</th>\n",
       "      <td>0</td>\n",
       "      <td>10</td>\n",
       "      <td>2.5</td>\n",
       "      <td>1260759135</td>\n",
       "    </tr>\n",
       "    <tr>\n",
       "      <th>11</th>\n",
       "      <td>0</td>\n",
       "      <td>11</td>\n",
       "      <td>1.0</td>\n",
       "      <td>1260759203</td>\n",
       "    </tr>\n",
       "    <tr>\n",
       "      <th>12</th>\n",
       "      <td>0</td>\n",
       "      <td>12</td>\n",
       "      <td>4.0</td>\n",
       "      <td>1260759191</td>\n",
       "    </tr>\n",
       "    <tr>\n",
       "      <th>13</th>\n",
       "      <td>0</td>\n",
       "      <td>13</td>\n",
       "      <td>4.0</td>\n",
       "      <td>1260759139</td>\n",
       "    </tr>\n",
       "    <tr>\n",
       "      <th>14</th>\n",
       "      <td>0</td>\n",
       "      <td>14</td>\n",
       "      <td>3.0</td>\n",
       "      <td>1260759194</td>\n",
       "    </tr>\n",
       "    <tr>\n",
       "      <th>15</th>\n",
       "      <td>0</td>\n",
       "      <td>15</td>\n",
       "      <td>2.0</td>\n",
       "      <td>1260759198</td>\n",
       "    </tr>\n",
       "    <tr>\n",
       "      <th>16</th>\n",
       "      <td>0</td>\n",
       "      <td>16</td>\n",
       "      <td>2.0</td>\n",
       "      <td>1260759108</td>\n",
       "    </tr>\n",
       "    <tr>\n",
       "      <th>17</th>\n",
       "      <td>0</td>\n",
       "      <td>17</td>\n",
       "      <td>2.5</td>\n",
       "      <td>1260759113</td>\n",
       "    </tr>\n",
       "    <tr>\n",
       "      <th>18</th>\n",
       "      <td>0</td>\n",
       "      <td>18</td>\n",
       "      <td>1.0</td>\n",
       "      <td>1260759200</td>\n",
       "    </tr>\n",
       "    <tr>\n",
       "      <th>19</th>\n",
       "      <td>0</td>\n",
       "      <td>19</td>\n",
       "      <td>3.0</td>\n",
       "      <td>1260759117</td>\n",
       "    </tr>\n",
       "    <tr>\n",
       "      <th>20</th>\n",
       "      <td>1</td>\n",
       "      <td>20</td>\n",
       "      <td>4.0</td>\n",
       "      <td>835355493</td>\n",
       "    </tr>\n",
       "    <tr>\n",
       "      <th>21</th>\n",
       "      <td>1</td>\n",
       "      <td>21</td>\n",
       "      <td>5.0</td>\n",
       "      <td>835355681</td>\n",
       "    </tr>\n",
       "    <tr>\n",
       "      <th>22</th>\n",
       "      <td>1</td>\n",
       "      <td>22</td>\n",
       "      <td>5.0</td>\n",
       "      <td>835355604</td>\n",
       "    </tr>\n",
       "    <tr>\n",
       "      <th>23</th>\n",
       "      <td>1</td>\n",
       "      <td>23</td>\n",
       "      <td>4.0</td>\n",
       "      <td>835355552</td>\n",
       "    </tr>\n",
       "    <tr>\n",
       "      <th>24</th>\n",
       "      <td>1</td>\n",
       "      <td>24</td>\n",
       "      <td>4.0</td>\n",
       "      <td>835355586</td>\n",
       "    </tr>\n",
       "    <tr>\n",
       "      <th>25</th>\n",
       "      <td>1</td>\n",
       "      <td>25</td>\n",
       "      <td>3.0</td>\n",
       "      <td>835356031</td>\n",
       "    </tr>\n",
       "    <tr>\n",
       "      <th>26</th>\n",
       "      <td>1</td>\n",
       "      <td>26</td>\n",
       "      <td>3.0</td>\n",
       "      <td>835355749</td>\n",
       "    </tr>\n",
       "    <tr>\n",
       "      <th>27</th>\n",
       "      <td>1</td>\n",
       "      <td>27</td>\n",
       "      <td>4.0</td>\n",
       "      <td>835355532</td>\n",
       "    </tr>\n",
       "    <tr>\n",
       "      <th>28</th>\n",
       "      <td>1</td>\n",
       "      <td>28</td>\n",
       "      <td>3.0</td>\n",
       "      <td>835356016</td>\n",
       "    </tr>\n",
       "    <tr>\n",
       "      <th>29</th>\n",
       "      <td>1</td>\n",
       "      <td>29</td>\n",
       "      <td>5.0</td>\n",
       "      <td>835355395</td>\n",
       "    </tr>\n",
       "    <tr>\n",
       "      <th>...</th>\n",
       "      <td>...</td>\n",
       "      <td>...</td>\n",
       "      <td>...</td>\n",
       "      <td>...</td>\n",
       "    </tr>\n",
       "    <tr>\n",
       "      <th>99974</th>\n",
       "      <td>670</td>\n",
       "      <td>473</td>\n",
       "      <td>4.5</td>\n",
       "      <td>1064245493</td>\n",
       "    </tr>\n",
       "    <tr>\n",
       "      <th>99975</th>\n",
       "      <td>670</td>\n",
       "      <td>354</td>\n",
       "      <td>5.0</td>\n",
       "      <td>1064245548</td>\n",
       "    </tr>\n",
       "    <tr>\n",
       "      <th>99976</th>\n",
       "      <td>670</td>\n",
       "      <td>355</td>\n",
       "      <td>3.5</td>\n",
       "      <td>1065111985</td>\n",
       "    </tr>\n",
       "    <tr>\n",
       "      <th>99977</th>\n",
       "      <td>670</td>\n",
       "      <td>5577</td>\n",
       "      <td>4.0</td>\n",
       "      <td>1065111973</td>\n",
       "    </tr>\n",
       "    <tr>\n",
       "      <th>99978</th>\n",
       "      <td>670</td>\n",
       "      <td>477</td>\n",
       "      <td>5.0</td>\n",
       "      <td>1064245488</td>\n",
       "    </tr>\n",
       "    <tr>\n",
       "      <th>99979</th>\n",
       "      <td>670</td>\n",
       "      <td>478</td>\n",
       "      <td>5.0</td>\n",
       "      <td>1065111996</td>\n",
       "    </tr>\n",
       "    <tr>\n",
       "      <th>99980</th>\n",
       "      <td>670</td>\n",
       "      <td>358</td>\n",
       "      <td>4.5</td>\n",
       "      <td>1065111855</td>\n",
       "    </tr>\n",
       "    <tr>\n",
       "      <th>99981</th>\n",
       "      <td>670</td>\n",
       "      <td>479</td>\n",
       "      <td>4.5</td>\n",
       "      <td>1064245471</td>\n",
       "    </tr>\n",
       "    <tr>\n",
       "      <th>99982</th>\n",
       "      <td>670</td>\n",
       "      <td>480</td>\n",
       "      <td>5.0</td>\n",
       "      <td>1064245483</td>\n",
       "    </tr>\n",
       "    <tr>\n",
       "      <th>99983</th>\n",
       "      <td>670</td>\n",
       "      <td>359</td>\n",
       "      <td>4.0</td>\n",
       "      <td>1064891537</td>\n",
       "    </tr>\n",
       "    <tr>\n",
       "      <th>99984</th>\n",
       "      <td>670</td>\n",
       "      <td>1225</td>\n",
       "      <td>2.0</td>\n",
       "      <td>1066793004</td>\n",
       "    </tr>\n",
       "    <tr>\n",
       "      <th>99985</th>\n",
       "      <td>670</td>\n",
       "      <td>1240</td>\n",
       "      <td>2.0</td>\n",
       "      <td>1065111990</td>\n",
       "    </tr>\n",
       "    <tr>\n",
       "      <th>99986</th>\n",
       "      <td>670</td>\n",
       "      <td>361</td>\n",
       "      <td>3.0</td>\n",
       "      <td>1065112004</td>\n",
       "    </tr>\n",
       "    <tr>\n",
       "      <th>99987</th>\n",
       "      <td>670</td>\n",
       "      <td>126</td>\n",
       "      <td>4.0</td>\n",
       "      <td>1065111863</td>\n",
       "    </tr>\n",
       "    <tr>\n",
       "      <th>99988</th>\n",
       "      <td>670</td>\n",
       "      <td>1260</td>\n",
       "      <td>4.0</td>\n",
       "      <td>1064245557</td>\n",
       "    </tr>\n",
       "    <tr>\n",
       "      <th>99989</th>\n",
       "      <td>670</td>\n",
       "      <td>483</td>\n",
       "      <td>4.5</td>\n",
       "      <td>1064891627</td>\n",
       "    </tr>\n",
       "    <tr>\n",
       "      <th>99990</th>\n",
       "      <td>670</td>\n",
       "      <td>362</td>\n",
       "      <td>3.0</td>\n",
       "      <td>1064891549</td>\n",
       "    </tr>\n",
       "    <tr>\n",
       "      <th>99991</th>\n",
       "      <td>670</td>\n",
       "      <td>127</td>\n",
       "      <td>4.0</td>\n",
       "      <td>1063502711</td>\n",
       "    </tr>\n",
       "    <tr>\n",
       "      <th>99992</th>\n",
       "      <td>670</td>\n",
       "      <td>364</td>\n",
       "      <td>4.0</td>\n",
       "      <td>1065111963</td>\n",
       "    </tr>\n",
       "    <tr>\n",
       "      <th>99993</th>\n",
       "      <td>670</td>\n",
       "      <td>1299</td>\n",
       "      <td>3.5</td>\n",
       "      <td>1064245507</td>\n",
       "    </tr>\n",
       "    <tr>\n",
       "      <th>99994</th>\n",
       "      <td>670</td>\n",
       "      <td>412</td>\n",
       "      <td>5.0</td>\n",
       "      <td>1063502716</td>\n",
       "    </tr>\n",
       "    <tr>\n",
       "      <th>99995</th>\n",
       "      <td>670</td>\n",
       "      <td>486</td>\n",
       "      <td>4.0</td>\n",
       "      <td>1064890625</td>\n",
       "    </tr>\n",
       "    <tr>\n",
       "      <th>99996</th>\n",
       "      <td>670</td>\n",
       "      <td>1308</td>\n",
       "      <td>4.5</td>\n",
       "      <td>1064245387</td>\n",
       "    </tr>\n",
       "    <tr>\n",
       "      <th>99997</th>\n",
       "      <td>670</td>\n",
       "      <td>365</td>\n",
       "      <td>4.0</td>\n",
       "      <td>1066793014</td>\n",
       "    </tr>\n",
       "    <tr>\n",
       "      <th>99998</th>\n",
       "      <td>670</td>\n",
       "      <td>2930</td>\n",
       "      <td>2.5</td>\n",
       "      <td>1065149436</td>\n",
       "    </tr>\n",
       "    <tr>\n",
       "      <th>99999</th>\n",
       "      <td>670</td>\n",
       "      <td>7005</td>\n",
       "      <td>2.5</td>\n",
       "      <td>1065579370</td>\n",
       "    </tr>\n",
       "    <tr>\n",
       "      <th>100000</th>\n",
       "      <td>670</td>\n",
       "      <td>4771</td>\n",
       "      <td>4.0</td>\n",
       "      <td>1065149201</td>\n",
       "    </tr>\n",
       "    <tr>\n",
       "      <th>100001</th>\n",
       "      <td>670</td>\n",
       "      <td>1329</td>\n",
       "      <td>4.0</td>\n",
       "      <td>1070940363</td>\n",
       "    </tr>\n",
       "    <tr>\n",
       "      <th>100002</th>\n",
       "      <td>670</td>\n",
       "      <td>1331</td>\n",
       "      <td>2.5</td>\n",
       "      <td>1070979663</td>\n",
       "    </tr>\n",
       "    <tr>\n",
       "      <th>100003</th>\n",
       "      <td>670</td>\n",
       "      <td>2946</td>\n",
       "      <td>3.5</td>\n",
       "      <td>1074784724</td>\n",
       "    </tr>\n",
       "  </tbody>\n",
       "</table>\n",
       "<p>100004 rows × 4 columns</p>\n",
       "</div>"
      ],
      "text/plain": [
       "        userId  movieId  rating   timestamp\n",
       "0            0        0     2.5  1260759144\n",
       "1            0        1     3.0  1260759179\n",
       "2            0        2     3.0  1260759182\n",
       "3            0        3     2.0  1260759185\n",
       "4            0        4     4.0  1260759205\n",
       "5            0        5     2.0  1260759151\n",
       "6            0        6     2.0  1260759187\n",
       "7            0        7     2.0  1260759148\n",
       "8            0        8     3.5  1260759125\n",
       "9            0        9     2.0  1260759131\n",
       "10           0       10     2.5  1260759135\n",
       "11           0       11     1.0  1260759203\n",
       "12           0       12     4.0  1260759191\n",
       "13           0       13     4.0  1260759139\n",
       "14           0       14     3.0  1260759194\n",
       "15           0       15     2.0  1260759198\n",
       "16           0       16     2.0  1260759108\n",
       "17           0       17     2.5  1260759113\n",
       "18           0       18     1.0  1260759200\n",
       "19           0       19     3.0  1260759117\n",
       "20           1       20     4.0   835355493\n",
       "21           1       21     5.0   835355681\n",
       "22           1       22     5.0   835355604\n",
       "23           1       23     4.0   835355552\n",
       "24           1       24     4.0   835355586\n",
       "25           1       25     3.0   835356031\n",
       "26           1       26     3.0   835355749\n",
       "27           1       27     4.0   835355532\n",
       "28           1       28     3.0   835356016\n",
       "29           1       29     5.0   835355395\n",
       "...        ...      ...     ...         ...\n",
       "99974      670      473     4.5  1064245493\n",
       "99975      670      354     5.0  1064245548\n",
       "99976      670      355     3.5  1065111985\n",
       "99977      670     5577     4.0  1065111973\n",
       "99978      670      477     5.0  1064245488\n",
       "99979      670      478     5.0  1065111996\n",
       "99980      670      358     4.5  1065111855\n",
       "99981      670      479     4.5  1064245471\n",
       "99982      670      480     5.0  1064245483\n",
       "99983      670      359     4.0  1064891537\n",
       "99984      670     1225     2.0  1066793004\n",
       "99985      670     1240     2.0  1065111990\n",
       "99986      670      361     3.0  1065112004\n",
       "99987      670      126     4.0  1065111863\n",
       "99988      670     1260     4.0  1064245557\n",
       "99989      670      483     4.5  1064891627\n",
       "99990      670      362     3.0  1064891549\n",
       "99991      670      127     4.0  1063502711\n",
       "99992      670      364     4.0  1065111963\n",
       "99993      670     1299     3.5  1064245507\n",
       "99994      670      412     5.0  1063502716\n",
       "99995      670      486     4.0  1064890625\n",
       "99996      670     1308     4.5  1064245387\n",
       "99997      670      365     4.0  1066793014\n",
       "99998      670     2930     2.5  1065149436\n",
       "99999      670     7005     2.5  1065579370\n",
       "100000     670     4771     4.0  1065149201\n",
       "100001     670     1329     4.0  1070940363\n",
       "100002     670     1331     2.5  1070979663\n",
       "100003     670     2946     3.5  1074784724\n",
       "\n",
       "[100004 rows x 4 columns]"
      ]
     },
     "execution_count": 13,
     "metadata": {},
     "output_type": "execute_result"
    }
   ],
   "source": []
  },
  {
   "cell_type": "markdown",
   "metadata": {},
   "source": [
    "## Create test/validation set"
   ]
  },
  {
   "cell_type": "code",
   "execution_count": 126,
   "metadata": {
    "collapsed": false
   },
   "outputs": [],
   "source": [
    "n_factors = 50\n",
    "np.random.seed = 42"
   ]
  },
  {
   "cell_type": "code",
   "execution_count": 127,
   "metadata": {
    "collapsed": true
   },
   "outputs": [],
   "source": [
    "msk = np.random.rand(len(ratings)) < 0.8\n",
    "trn = ratings[msk]\n",
    "val = ratings[~msk]"
   ]
  },
  {
   "cell_type": "code",
   "execution_count": 164,
   "metadata": {
    "collapsed": true
   },
   "outputs": [],
   "source": [
    "def embedding_input(name, n_in, n_out, reg):\n",
    "    inp = Input(shape=(1,), dtype='int64', name=name)\n",
    "    return inp, Embedding(n_in, n_out, input_length=1, W_regularizer=l2(reg))(inp)\n",
    "\n",
    "def create_bias(inp, n_in):\n",
    "    x = Embedding(n_in, 1, input_length=1)(inp)\n",
    "    return Flatten()(x)"
   ]
  },
  {
   "cell_type": "code",
   "execution_count": 165,
   "metadata": {
    "collapsed": false
   },
   "outputs": [],
   "source": [
    "user_in, u = embedding_input('user_in', n_users, n_factors, 1e-4)\n",
    "movie_in, m = embedding_input('movie_in', n_movies, n_factors, 1e-4)\n",
    "ub = create_bias(user_in, n_users)\n",
    "mb = create_bias(movie_in, n_movies)"
   ]
  },
  {
   "cell_type": "code",
   "execution_count": 166,
   "metadata": {
    "collapsed": true
   },
   "outputs": [],
   "source": [
    "x = merge([u, m], mode='dot')\n",
    "x = Flatten()(x)\n",
    "x = merge([x, ub], mode='sum')\n",
    "x = merge([x, mb], mode='sum')\n",
    "embedding_model = Model([user_in, movie_in], x)\n",
    "embedding_model.compile(Adam(0.001), loss='mse')"
   ]
  },
  {
   "cell_type": "code",
   "execution_count": 170,
   "metadata": {
    "collapsed": false
   },
   "outputs": [
    {
     "name": "stdout",
     "output_type": "stream",
     "text": [
      "Train on 80096 samples, validate on 19908 samples\n",
      "Epoch 1/3\n",
      "80096/80096 [==============================] - 6s - loss: 1.7661 - val_loss: 1.1763\n",
      "Epoch 2/3\n",
      "80096/80096 [==============================] - 6s - loss: 1.6862 - val_loss: 1.1342\n",
      "Epoch 3/3\n",
      "80096/80096 [==============================] - 6s - loss: 1.6077 - val_loss: 1.1027\n"
     ]
    },
    {
     "data": {
      "text/plain": [
       "<keras.callbacks.History at 0x7fb7f7309f90>"
      ]
     },
     "execution_count": 170,
     "metadata": {},
     "output_type": "execute_result"
    }
   ],
   "source": [
    "embedding_model.fit([trn.userId, trn.movieId], trn.rating, batch_size=64, nb_epoch=3, \n",
    "          validation_data=([val.userId, val.movieId], val.rating))"
   ]
  },
  {
   "cell_type": "code",
   "execution_count": 174,
   "metadata": {
    "collapsed": false
   },
   "outputs": [],
   "source": [
    "embedding_model.optimizer.lr=0.001"
   ]
  },
  {
   "cell_type": "code",
   "execution_count": 176,
   "metadata": {
    "collapsed": false
   },
   "outputs": [
    {
     "name": "stdout",
     "output_type": "stream",
     "text": [
      "Train on 80096 samples, validate on 19908 samples\n",
      "Epoch 1/5\n",
      "80096/80096 [==============================] - 6s - loss: 1.0223 - val_loss: 0.9034\n",
      "Epoch 2/5\n",
      "80096/80096 [==============================] - 6s - loss: 0.9723 - val_loss: 0.8873\n",
      "Epoch 3/5\n",
      "80096/80096 [==============================] - 6s - loss: 0.9254 - val_loss: 0.8722\n",
      "Epoch 4/5\n",
      "80096/80096 [==============================] - 6s - loss: 0.8811 - val_loss: 0.8596\n",
      "Epoch 5/5\n",
      "80096/80096 [==============================] - 6s - loss: 0.8410 - val_loss: 0.8448\n"
     ]
    },
    {
     "data": {
      "text/plain": [
       "<keras.callbacks.History at 0x7fb7f7309fd0>"
      ]
     },
     "execution_count": 176,
     "metadata": {},
     "output_type": "execute_result"
    }
   ],
   "source": [
    "embedding_model.fit([trn.userId, trn.movieId], trn.rating, batch_size=64, nb_epoch=5, \n",
    "          validation_data=([val.userId, val.movieId], val.rating))"
   ]
  },
  {
   "cell_type": "code",
   "execution_count": 146,
   "metadata": {
    "collapsed": false
   },
   "outputs": [
    {
     "name": "stdout",
     "output_type": "stream",
     "text": [
      "____________________________________________________________________________________________________\n",
      "Layer (type)                     Output Shape          Param #     Connected to                     \n",
      "====================================================================================================\n",
      "user_in (InputLayer)             (None, 1)             0                                            \n",
      "____________________________________________________________________________________________________\n",
      "movie_in (InputLayer)            (None, 1)             0                                            \n",
      "____________________________________________________________________________________________________\n",
      "embedding_5 (Embedding)          (None, 1, 50)         33550       user_in[0][0]                    \n",
      "____________________________________________________________________________________________________\n",
      "embedding_6 (Embedding)          (None, 1, 50)         453300      movie_in[0][0]                   \n",
      "____________________________________________________________________________________________________\n",
      "merge_6 (Merge)                  (None, 1, 100)        0           embedding_5[0][0]                \n",
      "                                                                   embedding_6[0][0]                \n",
      "____________________________________________________________________________________________________\n",
      "flatten_6 (Flatten)              (None, 100)           0           merge_6[0][0]                    \n",
      "____________________________________________________________________________________________________\n",
      "dropout_11 (Dropout)             (None, 100)           0           flatten_6[0][0]                  \n",
      "____________________________________________________________________________________________________\n",
      "dense_11 (Dense)                 (None, 70)            7070        dropout_11[0][0]                 \n",
      "____________________________________________________________________________________________________\n",
      "dropout_12 (Dropout)             (None, 70)            0           dense_11[0][0]                   \n",
      "____________________________________________________________________________________________________\n",
      "dense_12 (Dense)                 (None, 1)             71          dropout_12[0][0]                 \n",
      "====================================================================================================\n",
      "Total params: 493991\n",
      "____________________________________________________________________________________________________\n"
     ]
    }
   ],
   "source": [
    "x = merge([u, m], mode='concat')\n",
    "x = Flatten()(x)\n",
    "x = Dropout(0.3)(x)\n",
    "x = Dense(70, activation='relu')(x)\n",
    "x = Dropout(0.5)(x)\n",
    "x = Dense(1)(x)\n",
    "nn = Model([user_in, movie_in], x)\n",
    "nn.compile(Adam(0.001), loss='mse')\n",
    "nn.summary()"
   ]
  },
  {
   "cell_type": "code",
   "execution_count": 147,
   "metadata": {
    "collapsed": false
   },
   "outputs": [
    {
     "name": "stdout",
     "output_type": "stream",
     "text": [
      "Train on 80096 samples, validate on 19908 samples\n",
      "Epoch 1/8\n",
      "80096/80096 [==============================] - 7s - loss: 1.8071 - val_loss: 0.8151\n",
      "Epoch 2/8\n",
      "80096/80096 [==============================] - 7s - loss: 1.0697 - val_loss: 0.8054\n",
      "Epoch 3/8\n",
      "80096/80096 [==============================] - 7s - loss: 1.0018 - val_loss: 0.7937\n",
      "Epoch 4/8\n",
      "80096/80096 [==============================] - 7s - loss: 0.9446 - val_loss: 0.7945\n",
      "Epoch 5/8\n",
      "80096/80096 [==============================] - 7s - loss: 0.8933 - val_loss: 0.7873\n",
      "Epoch 6/8\n",
      "80096/80096 [==============================] - 7s - loss: 0.8548 - val_loss: 0.7853\n",
      "Epoch 7/8\n",
      "80096/80096 [==============================] - 7s - loss: 0.8253 - val_loss: 0.7854\n",
      "Epoch 8/8\n",
      "80096/80096 [==============================] - 7s - loss: 0.8053 - val_loss: 0.7816\n"
     ]
    },
    {
     "data": {
      "text/plain": [
       "<keras.callbacks.History at 0x7fb7f189d2d0>"
      ]
     },
     "execution_count": 147,
     "metadata": {},
     "output_type": "execute_result"
    }
   ],
   "source": [
    "nn.fit([trn.userId, trn.movieId], trn.rating, batch_size=64, nb_epoch=8, \n",
    "          validation_data=([val.userId, val.movieId], val.rating))"
   ]
  },
  {
   "cell_type": "code",
   "execution_count": 148,
   "metadata": {
    "collapsed": false
   },
   "outputs": [
    {
     "data": {
      "text/plain": [
       "array([[ 2.8733],\n",
       "       [ 3.7771],\n",
       "       [ 4.0605],\n",
       "       [ 3.662 ],\n",
       "       [ 3.1894],\n",
       "       [ 2.9301],\n",
       "       [ 3.5793],\n",
       "       [ 3.8821],\n",
       "       [ 3.0451],\n",
       "       [ 3.3847],\n",
       "       [ 3.1447],\n",
       "       [ 3.3436],\n",
       "       [ 4.0229],\n",
       "       [ 2.644 ],\n",
       "       [ 3.0551],\n",
       "       [ 3.289 ],\n",
       "       [ 3.8455],\n",
       "       [ 3.3765],\n",
       "       [ 3.658 ],\n",
       "       [ 3.5154],\n",
       "       [ 3.6308],\n",
       "       [ 3.296 ],\n",
       "       [ 3.8408],\n",
       "       [ 3.3577],\n",
       "       [ 3.8793],\n",
       "       [ 3.8509],\n",
       "       [ 3.1666],\n",
       "       [ 4.3362],\n",
       "       [ 4.2525],\n",
       "       [ 4.698 ]], dtype=float32)"
      ]
     },
     "execution_count": 148,
     "metadata": {},
     "output_type": "execute_result"
    }
   ],
   "source": [
    "nn.predict([val.userId[:30], val.movieId[:30]])"
   ]
  },
  {
   "cell_type": "code",
   "execution_count": 149,
   "metadata": {
    "collapsed": false
   },
   "outputs": [
    {
     "data": {
      "text/plain": [
       "1      3.0\n",
       "23     4.0\n",
       "24     4.0\n",
       "29     5.0\n",
       "34     3.0\n",
       "47     4.0\n",
       "55     4.0\n",
       "57     3.0\n",
       "60     3.0\n",
       "64     3.0\n",
       "80     4.0\n",
       "82     3.0\n",
       "100    4.5\n",
       "102    2.5\n",
       "107    3.0\n",
       "110    3.5\n",
       "113    5.0\n",
       "119    4.5\n",
       "127    3.5\n",
       "134    3.0\n",
       "136    3.0\n",
       "139    3.5\n",
       "142    3.5\n",
       "143    4.5\n",
       "144    4.5\n",
       "145    3.0\n",
       "152    3.0\n",
       "161    5.0\n",
       "171    5.0\n",
       "174    5.0\n",
       "Name: rating, dtype: float64"
      ]
     },
     "execution_count": 149,
     "metadata": {},
     "output_type": "execute_result"
    }
   ],
   "source": [
    "val.rating[:30]"
   ]
  },
  {
   "cell_type": "markdown",
   "metadata": {
    "collapsed": true
   },
   "source": [
    "## Analyze embeddings"
   ]
  },
  {
   "cell_type": "code",
   "execution_count": 150,
   "metadata": {
    "collapsed": false
   },
   "outputs": [
    {
     "data": {
      "text/plain": [
       "array([ 57,  49,  99,  92, 143,  72, 402, 417,  79,  89, 179,  27, 197, 505, 180, 121, 432, 106,\n",
       "        88,  69, 122,  90,  23,  24,  59, 157, 480,  29, 146,  91])"
      ]
     },
     "execution_count": 150,
     "metadata": {},
     "output_type": "execute_result"
    }
   ],
   "source": [
    "g=ratings.groupby('movieId')['rating'].count()\n",
    "topMovies=g.sort_values(ascending=False)[:2000]\n",
    "topMovies = np.array(topMovies.index)\n",
    "topMovies[:30]"
   ]
  },
  {
   "cell_type": "markdown",
   "metadata": {},
   "source": [
    "Getting the movie embedding by assosiating the movie_in output with the movie embedding as output. And predicting the output for the topMovies"
   ]
  },
  {
   "cell_type": "code",
   "execution_count": 151,
   "metadata": {
    "collapsed": false
   },
   "outputs": [
    {
     "data": {
      "text/plain": [
       "(2000, 50)"
      ]
     },
     "execution_count": 151,
     "metadata": {},
     "output_type": "execute_result"
    }
   ],
   "source": [
    "get_movie_emb = Model(movie_in, mb)\n",
    "movie_emb = np.squeeze(get_movie_emb.predict([topMovies]))\n",
    "movie_emb.shape"
   ]
  },
  {
   "cell_type": "markdown",
   "metadata": {},
   "source": [
    "Reducing the 50 embeddings to 3-dimensional space"
   ]
  },
  {
   "cell_type": "code",
   "execution_count": 152,
   "metadata": {
    "collapsed": true
   },
   "outputs": [],
   "source": [
    "from sklearn.decomposition import PCA\n",
    "pca = PCA(n_components=3)\n",
    "movie_pca = pca.fit(movie_emb.T).components_"
   ]
  },
  {
   "cell_type": "code",
   "execution_count": 153,
   "metadata": {
    "collapsed": false
   },
   "outputs": [
    {
     "data": {
      "text/plain": [
       "array([[ 0.0367,  0.0516,  0.0618, ...,  0.037 , -0.0177,  0.0075],\n",
       "       [-0.0071, -0.0077, -0.041 , ...,  0.0085,  0.0238, -0.0208],\n",
       "       [-0.0179, -0.0472, -0.0356, ..., -0.0026, -0.0065,  0.0565]], dtype=float32)"
      ]
     },
     "execution_count": 153,
     "metadata": {},
     "output_type": "execute_result"
    }
   ],
   "source": [
    "movie_pca"
   ]
  },
  {
   "cell_type": "markdown",
   "metadata": {},
   "source": [
    "Get first embedding"
   ]
  },
  {
   "cell_type": "code",
   "execution_count": 154,
   "metadata": {
    "collapsed": false
   },
   "outputs": [],
   "source": [
    "def get_movie(m_id):\n",
    "    if m_id in movie_names: \n",
    "         return movie_names[m_id]\n",
    "    else:\n",
    "        return \"no movie found {}\".format(m_id)\n",
    "    \n",
    "def get_embedding(index = 0, number = 10):\n",
    "    fac = movie_pca[index]\n",
    "    f_top = zip(fac, topMovies)\n",
    "    movie_comp = map(lambda (f, i): [f, get_movie(i)], f_top)\n",
    "    top = sorted(movie_comp, key=itemgetter(0), reverse=True)[:number]\n",
    "    bottom = sorted(movie_comp, key=itemgetter(0), reverse=False)[:number]\n",
    "    return (top, bottom)"
   ]
  },
  {
   "cell_type": "code",
   "execution_count": 155,
   "metadata": {
    "collapsed": false
   },
   "outputs": [],
   "source": [
    "top, bottom = get_embedding(0)\n"
   ]
  },
  {
   "cell_type": "code",
   "execution_count": 156,
   "metadata": {
    "collapsed": false
   },
   "outputs": [
    {
     "data": {
      "text/plain": [
       "[[0.06184097, 'Heidi Fleiss: Hollywood Madam (1995)'],\n",
       " [0.059043795, 'Canadian Bacon (1995)'],\n",
       " [0.057739392, '8MM (1999)'],\n",
       " [0.057604756, \"Margaret's Museum (1995)\"],\n",
       " [0.057032388, 'North (1994)'],\n",
       " [0.05616419, 'Faster Pussycat! Kill! Kill! (1965)'],\n",
       " [0.054973863, 'Congo (1995)'],\n",
       " [0.053878572, 'Grass Harp, The (1995)'],\n",
       " [0.05359941, 'Fluke (1995)'],\n",
       " [0.05329667, 'Mad Love (1995)']]"
      ]
     },
     "execution_count": 156,
     "metadata": {},
     "output_type": "execute_result"
    }
   ],
   "source": [
    "top"
   ]
  },
  {
   "cell_type": "code",
   "execution_count": 157,
   "metadata": {
    "collapsed": false
   },
   "outputs": [
    {
     "data": {
      "text/plain": [
       "[[-0.053857327, 'Lost Horizon (1937)'],\n",
       " [-0.053489275, 'Manhunter (1986)'],\n",
       " [-0.052709322, 'no movie found 530'],\n",
       " [-0.052116994, 'Saboteur (1942)'],\n",
       " [-0.05175006, 'Striking Distance (1993)'],\n",
       " [-0.051420242, 'no movie found 641'],\n",
       " [-0.050937317, 'Repulsion (1965)'],\n",
       " [-0.050737116, 'World of Apu, The (Apur Sansar) (1959)'],\n",
       " [-0.0507369, 'no movie found 2954'],\n",
       " [-0.050330609, 'no movie found 860']]"
      ]
     },
     "execution_count": 157,
     "metadata": {},
     "output_type": "execute_result"
    }
   ],
   "source": [
    "bottom"
   ]
  },
  {
   "cell_type": "code",
   "execution_count": 158,
   "metadata": {
    "collapsed": true
   },
   "outputs": [],
   "source": [
    "top, bottom = get_embedding(1)"
   ]
  },
  {
   "cell_type": "code",
   "execution_count": 159,
   "metadata": {
    "collapsed": false
   },
   "outputs": [
    {
     "data": {
      "text/plain": [
       "[[0.086403452, 'Messenger: The Story of Joan of Arc, The (1999)'],\n",
       " [0.080959246, 'Beyond Bedlam (1993)'],\n",
       " [0.071455918, 'My Man Godfrey (1936)'],\n",
       " [0.06994348, 'no movie found 1121'],\n",
       " [0.06811294, 'Miracle on 34th Street (1994)'],\n",
       " [0.065104663, 'True Lies (1994)'],\n",
       " [0.064722024, 'Popeye (1980)'],\n",
       " [0.063206099, 'Tom and Huck (1995)'],\n",
       " [0.062648088, \"Logan's Run (1976)\"],\n",
       " [0.06117494, 'Dumb & Dumber (Dumb and Dumber) (1994)']]"
      ]
     },
     "execution_count": 159,
     "metadata": {},
     "output_type": "execute_result"
    }
   ],
   "source": [
    "top"
   ]
  },
  {
   "cell_type": "code",
   "execution_count": 160,
   "metadata": {
    "collapsed": false
   },
   "outputs": [
    {
     "data": {
      "text/plain": [
       "[[-0.063700005, 'Midnight in the Garden of Good and Evil (1997)'],\n",
       " [-0.056820404, 'Seventh Heaven (Septi\\xc3\\xa8me ciel, Le) (1997)'],\n",
       " [-0.056591112, 'Deceiver (1997)'],\n",
       " [-0.053776048, 'Trouble with Harry, The (1955)'],\n",
       " [-0.053616233, 'Meteor (1979)'],\n",
       " [-0.052511379, 'no movie found 1309'],\n",
       " [-0.05233426, 'Terminator, The (1984)'],\n",
       " [-0.050409358, 'no movie found 1520'],\n",
       " [-0.049084403, 'To Kill a Mockingbird (1962)'],\n",
       " [-0.049019802, 'Fresh (1994)']]"
      ]
     },
     "execution_count": 160,
     "metadata": {},
     "output_type": "execute_result"
    }
   ],
   "source": [
    "bottom"
   ]
  },
  {
   "cell_type": "code",
   "execution_count": 161,
   "metadata": {
    "collapsed": true
   },
   "outputs": [],
   "source": [
    "top, bottom = get_embedding(2)"
   ]
  },
  {
   "cell_type": "code",
   "execution_count": 162,
   "metadata": {
    "collapsed": false
   },
   "outputs": [
    {
     "data": {
      "text/plain": [
       "[[0.079137012, 'Father of the Bride Part II (1995)'],\n",
       " [0.070415847, 'Baby-Sitters Club, The (1995)'],\n",
       " [0.069486454, 'no movie found 4582'],\n",
       " [0.069242291, 'Made in America (1993)'],\n",
       " [0.068516225, 'Pie in the Sky (1996)'],\n",
       " [0.064876236, 'Cutthroat Island (1995)'],\n",
       " [0.063664012, 'Beverly Hills Ninja (1997)'],\n",
       " [0.061730031, 'Favor, The (1994)'],\n",
       " [0.061348364, 'Blade Runner (1982)'],\n",
       " [0.058032352, 'Picnic (1955)']]"
      ]
     },
     "execution_count": 162,
     "metadata": {},
     "output_type": "execute_result"
    }
   ],
   "source": [
    "top"
   ]
  },
  {
   "cell_type": "code",
   "execution_count": 163,
   "metadata": {
    "collapsed": false
   },
   "outputs": [
    {
     "data": {
      "text/plain": [
       "[[-0.092232063, 'Threesome (1994)'],\n",
       " [-0.071114406, 'no movie found 1315'],\n",
       " [-0.070515566, 'Primal Fear (1996)'],\n",
       " [-0.0695673, 'Getting Even with Dad (1994)'],\n",
       " [-0.067315705,\n",
       "  'Halloween: The Curse of Michael Myers (Halloween 6: The Curse of Michael Myers) (1995)'],\n",
       " [-0.066656969, 'Wolf (1994)'],\n",
       " [-0.065920226, 'no movie found 385'],\n",
       " [-0.065919131, 'Ladybird Ladybird (1994)'],\n",
       " [-0.06477464, 'Snake Eyes (1998)'],\n",
       " [-0.06209233, 'Tom and Huck (1995)']]"
      ]
     },
     "execution_count": 163,
     "metadata": {},
     "output_type": "execute_result"
    }
   ],
   "source": [
    "bottom"
   ]
  },
  {
   "cell_type": "code",
   "execution_count": 102,
   "metadata": {
    "collapsed": false
   },
   "outputs": [
    {
     "data": {
      "text/plain": [
       "array([[-0.0329, -0.0458, -0.0558, ..., -0.0278,  0.0262,  0.0072],\n",
       "       [ 0.0066,  0.0049, -0.0134, ...,  0.0132,  0.0107, -0.017 ],\n",
       "       [-0.0628, -0.0063,  0.0045, ..., -0.0357,  0.0205, -0.0276]], dtype=float32)"
      ]
     },
     "execution_count": 102,
     "metadata": {},
     "output_type": "execute_result"
    }
   ],
   "source": []
  },
  {
   "cell_type": "code",
   "execution_count": null,
   "metadata": {
    "collapsed": true
   },
   "outputs": [],
   "source": []
  }
 ],
 "metadata": {
  "anaconda-cloud": {},
  "kernelspec": {
   "display_name": "Python [conda root]",
   "language": "python",
   "name": "conda-root-py"
  },
  "language_info": {
   "codemirror_mode": {
    "name": "ipython",
    "version": 2
   },
   "file_extension": ".py",
   "mimetype": "text/x-python",
   "name": "python",
   "nbconvert_exporter": "python",
   "pygments_lexer": "ipython2",
   "version": "2.7.12"
  }
 },
 "nbformat": 4,
 "nbformat_minor": 1
}
